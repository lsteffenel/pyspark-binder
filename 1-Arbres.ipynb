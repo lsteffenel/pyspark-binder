{
 "cells": [
  {
   "cell_type": "markdown",
   "metadata": {},
   "source": [
    "# TP 1 - Apprendre avec un exemple\n",
    "\n",
    "Dans ce premier exercice, vous allez étudier un code PySpark fourni et apprendre les principes d'utilisation d'un RDD. Par la suite (TP2 et autres), vous allez commencer à remplir vous mêmes les code afin d'obtenir les résultats.\n",
    "\n",
    "Pour tous les exercices, il est recommandé de consulter la documentation des RDD :\n",
    "\n",
    "http://spark.apache.org/docs/latest/api/python/pyspark.html#pyspark.RDD\n",
    "\n",
    "Il y a un grand nombre de méthodes. Il faut seulement étudier celles qui sont utilisées ici."
   ]
  },
  {
   "cell_type": "markdown",
   "metadata": {},
   "source": [
    "## Téléchargement du dataset\n",
    "\n",
    "Le dataset qui sera utilisé dans ce premier exercice est issu du site [Opendata Paris](https://opendata.paris.fr/). Dans ce cas spécifique, on utiliser un dataset qui répertorie tous les arbres dans Paris intramuros, avec leurs coordonnées et caractéristiques (espèce, taille, etc.).\n"
   ]
  },
  {
   "cell_type": "code",
   "execution_count": 1,
   "metadata": {},
   "outputs": [
    {
     "name": "stdout",
     "output_type": "stream",
     "text": [
      "--2020-11-09 22:03:11--  http://cosy.univ-reims.fr/~lsteffenel/cours/Master2/RT0902-BigData/les-arbres.csv\n",
      "Resolving cosy.univ-reims.fr (cosy.univ-reims.fr)... 194.57.105.26, 2001:660:4601:1310::c239:691a\n",
      "Connecting to cosy.univ-reims.fr (cosy.univ-reims.fr)|194.57.105.26|:80... connected.\n",
      "HTTP request sent, awaiting response... 301 Moved Permanently\n",
      "Location: https://cosy.univ-reims.fr/~lsteffenel/cours/Master2/RT0902-BigData/les-arbres.csv [following]\n",
      "--2020-11-09 22:03:11--  https://cosy.univ-reims.fr/~lsteffenel/cours/Master2/RT0902-BigData/les-arbres.csv\n",
      "Connecting to cosy.univ-reims.fr (cosy.univ-reims.fr)|194.57.105.26|:443... connected.\n",
      "HTTP request sent, awaiting response... 200 OK\n",
      "Length: 31492254 (30M) [text/csv]\n",
      "Saving to: ‘paris/les-arbres.csv’\n",
      "\n",
      "paris/les-arbres.cs 100%[===================>]  30.03M  11.1MB/s    in 2.7s    \n",
      "\n",
      "2020-11-09 22:03:13 (11.1 MB/s) - ‘paris/les-arbres.csv’ saved [31492254/31492254]\n",
      "\n"
     ]
    }
   ],
   "source": [
    "!mkdir paris\n",
    "!wget http://cosy.univ-reims.fr/~lsteffenel/cours/Master2/RT0902-BigData/les-arbres.csv -O paris/les-arbres.csv"
   ]
  },
  {
   "cell_type": "code",
   "execution_count": 2,
   "metadata": {},
   "outputs": [
    {
     "name": "stdout",
     "output_type": "stream",
     "text": [
      "les-arbres.csv\r\n"
     ]
    }
   ],
   "source": [
    "!ls paris"
   ]
  },
  {
   "cell_type": "markdown",
   "metadata": {},
   "source": [
    "Si vous êtes curieux, je vous invite à naviguer la visualisation de ce dataset, dans la fenêtre ci-dessous :"
   ]
  },
  {
   "cell_type": "code",
   "execution_count": 5,
   "metadata": {},
   "outputs": [
    {
     "data": {
      "text/html": [
       "<iframe src=\"https://opendata.paris.fr/explore/embed/dataset/les-arbres/map/?disjunctive.typeemplacement&disjunctive.arrondissement&disjunctive.libellefrancais&disjunctive.genre&disjunctive.espece&disjunctive.varieteoucultivar&disjunctive.stadedeveloppement&disjunctive.remarquable&location=11,48.8274,2.34&basemap=jawg.streets&static=false&datasetcard=false&scrollWheelZoom=false\" width=\"800\" height=\"500\" frameborder=\"0\">"
      ],
      "text/plain": [
       "<IPython.core.display.HTML object>"
      ]
     },
     "execution_count": 5,
     "metadata": {},
     "output_type": "execute_result"
    }
   ],
   "source": [
    "from IPython.display import HTML\n",
    "url=\"https://opendata.paris.fr/explore/embed/dataset/les-arbres/map/?disjunctive.typeemplacement&disjunctive.arrondissement&disjunctive.libellefrancais&disjunctive.genre&disjunctive.espece&disjunctive.varieteoucultivar&disjunctive.stadedeveloppement&disjunctive.remarquable&location=11,48.8274,2.34&basemap=jawg.streets&static=false&datasetcard=false&scrollWheelZoom=false\"\n",
    "HTML('<iframe src=\"{}\" width=\"800\" height=\"500\" frameborder=\"0\">'.format(url))"
   ]
  },
  {
   "cell_type": "markdown",
   "metadata": {},
   "source": [
    "## Démarrage de l'environnement Spark sous Python\n",
    "\n",
    "Pour démarrer notre TP, nous allons importer la bibliothèque pyspark et démarrer un `SparkContext`(connexion au moteur Spark).\n",
    "\n",
    "Attention : il faut exécuter le paragraphe suivant une seule fois car Spark ne permet pas de créer deux SparkContext avec le même nom. "
   ]
  },
  {
   "cell_type": "code",
   "execution_count": 3,
   "metadata": {},
   "outputs": [],
   "source": [
    "import pyspark\n",
    "import random\n",
    "sc = pyspark.SparkContext(appName=\"TP RDD\")"
   ]
  },
  {
   "cell_type": "code",
   "execution_count": 4,
   "metadata": {},
   "outputs": [
    {
     "name": "stdout",
     "output_type": "stream",
     "text": [
      "nombre de lignes à traiter: 204436\n"
     ]
    }
   ],
   "source": [
    "# Exemple 1 : nombre d'arbres\n",
    "\n",
    "# ouvrir le fichier\n",
    "brut = sc.textFile(\"file:/home/jovyan/paris/les-arbres.csv\")\n",
    "\n",
    "# affichage du nombre de lignes\n",
    "nombre = brut.count()\n",
    "print (\"nombre de lignes à traiter:\", nombre)"
   ]
  },
  {
   "cell_type": "markdown",
   "metadata": {},
   "source": [
    "### Création d'une classe pour \"stocker\" les arbres\n",
    "\n",
    "Nous allons traiter les différentes entrées du dataset grâce à une classe qui représente un arbre. Ainsi, il sera plus simple d'accéder aux différents attributs de chaque entrée.\n",
    "\n",
    "Si vous n'avez jamais utilisé des classes en Python, c'est un peu différent de Java : \n",
    "* L’entête est différente (ça ressemble énormément à la définition d'une fonction (`def xxx():`) ; \n",
    "* Le constructeur a un nom bizarre (`__init__`) ; \n",
    "* Il faut mettre `self` en tant que premier paramètre dans toutes les méthodes, mais ce paramètre est\n",
    "comme invisible lors de l’appel ;\n",
    "* La création d’une instance ne nécessite pas d'un appel `new`."
   ]
  },
  {
   "cell_type": "code",
   "execution_count": 12,
   "metadata": {},
   "outputs": [],
   "source": [
    "class Arbre(object):\n",
    "\n",
    "    # constructeur\n",
    "    def __init__(self, ligne):\n",
    "        # séparation de la ligne en champs\n",
    "        self.champs = ligne.split(\";\")\n",
    "\n",
    "    # affichage (equivalent de toString())\n",
    "    def __str__(self):\n",
    "        return \"Arbre[%s]\" % ', '.join(self.champs)\n",
    "\n",
    "    # retourne le genre de l'arbre ou None si on est sur la ligne de titre\n",
    "    def genre(self):\n",
    "        if self.champs[9] == u'GENRE': return None\n",
    "        return self.champs[9]\n",
    "\n",
    "    # retourne la hauteur de l'arbre ou zéro si elle est absente/incorrecte\n",
    "    def hauteur(self):\n",
    "        try:\n",
    "            return float(self.champs[13])\n",
    "        except:\n",
    "            return 0.0"
   ]
  },
  {
   "cell_type": "code",
   "execution_count": 13,
   "metadata": {},
   "outputs": [
    {
     "name": "stdout",
     "output_type": "stream",
     "text": [
      "nombre total d'arbres =  204436\n",
      "nombre d'arbres avec hauteur =  173217\n",
      "hauteur moyenne des arbres (méthode 1) = 15.677329592361026\n",
      "hauteur moyenne des arbres (méthode 2) = 15.67732959236073\n"
     ]
    }
   ],
   "source": [
    "\n",
    "## Exemple 2 : hauteur moyenne des arbres\n",
    "\n",
    "# ouvrir le fichier (on l'a déjà fait, mais il vaut mieux ne pas éparpiller les appels)\n",
    "brut = sc.textFile(\"file:/home/jovyan/paris/les-arbres.csv\")\n",
    "\n",
    "# construire des Arbre à partir de chaque ligne\n",
    "# par simplicité on utilise une fonction lambda\n",
    "arbres = brut.map(lambda ligne: Arbre(ligne))\n",
    "\n",
    "# récupérer seulement la hauteur des arbres (None si inconnue)\n",
    "hauteurs = arbres.map(lambda arbre: arbre.hauteur())\n",
    "print(\"nombre total d'arbres = \", hauteurs.count())\n",
    "\n",
    "# suppression des valeurs \"zéro\" dans la RDD\n",
    "hauteurs_ok = hauteurs.filter(lambda X:X>0.0)\n",
    "print(\"nombre d'arbres avec hauteur = \", hauteurs_ok.count())\n",
    "\n",
    "# addition des valeurs (2 variantes)\n",
    "#total = hauteurs_ok.reduce(lambda a,b: a+b)\n",
    "total = hauteurs_ok.sum()\n",
    "\n",
    "# nombre de valeurs pour la hauteur\n",
    "nombre = hauteurs_ok.count()\n",
    "\n",
    "# affichage de la moyenne\n",
    "moyenne = total/nombre\n",
    "\n",
    "print (\"hauteur moyenne des arbres (méthode 1) =\", moyenne)\n",
    "\n",
    "# autre variante avec une fonction prédéfinie\n",
    "moyenne = hauteurs_ok.mean()\n",
    "print (\"hauteur moyenne des arbres (méthode 2) =\", moyenne)"
   ]
  },
  {
   "cell_type": "markdown",
   "metadata": {},
   "source": [
    "Pour comprendre : \n",
    "\n",
    "Le premier appel brut.map fait la séparation du RDD en champs à l’aide de la classe Arbre.\n",
    "La construction de la classe fait qu'on récupère le champ qui nous intéresse ou None si ça échoue (absent ou ligne de titre)\n",
    "\n",
    "L'appel à filter fait la suppression des valeurs `zéro`. On utilise une fonction booléenne appelée sur chaque\n",
    "élément — l’élément est enlevé si elle retourne `False`.\n",
    "\n",
    "L'addition des valeurs peut se faire avec deux variantes : à l’aide d’un reduce assez simple, ou avec la\n",
    "méthode `sum()`. Vous voudrez bien les essayer toutes les deux.\n",
    "\n",
    "La division avec le nombre d’éléments pser à obtenir la moyenne.\n",
    "On peut aussi utiliser une variante qui calcule directement la moyenne des nombres d’un RDD avec\n",
    "la méthode `mean()`."
   ]
  },
  {
   "cell_type": "markdown",
   "metadata": {},
   "source": [
    "### Genre de l'arbre le plus haut\n",
    "\n",
    "Le principe ici est de construire des paires (clé, valeur), avec la hauteur des arbres comme clé et leur genre en tant que valeur. Ensuite, on classe les paires par ordre de clé décroissante grâce à `sortByKey` et on garde seulement la première paire.\n",
    "\n",
    "La manipulation de paires (clé, valeur) est similaire à MapReduce sur Hadoop. L’algorithme repose sur le choix des clés et valeurs à associer.\n",
    "Il y a de nombreuses méthodes, pour information (elles ne sont pas à apprendre, juste savoir qu’il y a du choix) :\n",
    "* `aggregateByKey`, `combineByKey`, `countByKey`, `foldByKey`, `groupByKey`, `reduceByKey`, `sortByKey`, `subtractByKey` pour travailler avec les clés,\n",
    "* `countByValue`, `mapValues` pour gérer les valeurs,\n",
    "* une fonction pour extraire uniquement les clés : `keys`,\n",
    "* deux fonctions pour accéder aux valeurs : `lookup`et `values`.\n",
    "\n",
    "Il y a une variante pour faire le tri, `sortBy`. On lui fournit une lambda qui extrait la valeur à\n",
    "utiliser pour le tri. Ici, on extrait la hauteur des paires.\n",
    "\n",
    "La fin du script utilise une autre méthode, bien plus efficace qu’un tri, utilisant `max`. Le paramètre\n",
    "à lui fournir est une fonction ou lambda qui retourne la valeur dont on recherche le maximum\n",
    "(comme pour `sortBy`). Il y a aussi une méthode `min`."
   ]
  },
  {
   "cell_type": "code",
   "execution_count": 14,
   "metadata": {},
   "outputs": [
    {
     "name": "stdout",
     "output_type": "stream",
     "text": [
      "Le plus grand arbre (méthode 1) = (881818.0, 'Tilia')\n",
      "Le plus grand arbre (méthode 2) = (881818.0, 'Tilia')\n"
     ]
    }
   ],
   "source": [
    "## Exemple 3 : genre du plus grand arbre\n",
    "\n",
    "# ouvrir le fichier (on l'a déjà fait, mais il vaut mieux ne pas éparpiller les appels)\n",
    "brut = sc.textFile(\"file:/home/jovyan/paris/les-arbres.csv\")\n",
    "\n",
    "# construire des Arbre à partir de chaque ligne\n",
    "arbres = brut.map(lambda ligne: Arbre(ligne))\n",
    "\n",
    "# construire des paires (hauteur, genre)\n",
    "hauteurs_genres = arbres.map(lambda arbre: (arbre.hauteur(), arbre.genre()))\n",
    "\n",
    "# suppression des paires dont la hauteur ou le genre sont inconnus\n",
    "hauteurs_genres_ok = hauteurs_genres.filter(lambda hauteurgenre: hauteurgenre[0] is not None and hauteurgenre[1] is not None)\n",
    "\n",
    "# classement des paires par hauteur décroissante, deux possibilités\n",
    "classement = hauteurs_genres_ok.sortByKey(ascending=False)\n",
    "#classement = hauteurs_genres_ok.sortBy(lambda (hauteur,genre): hauteur, ascending=False)\n",
    "\n",
    "# affichage de la première paire (= le plus grand arbre)\n",
    "grand = classement.first()\n",
    "print (\"Le plus grand arbre (méthode 1) =\",grand)\n",
    "\n",
    "# autre méthode : max() sur la liste des paires => pas de tri\n",
    "grand = hauteurs_genres_ok.max(lambda hauteurgenre: hauteurgenre[0])\n",
    "print (\"Le plus grand arbre (méthode 2) =\",grand)"
   ]
  },
  {
   "cell_type": "markdown",
   "metadata": {},
   "source": [
    "Commentaire : Oui, ils se sont bien trompés :] Déjà, le champ \"hauteur\" devrait être en metres, en plus cet arbre se trouve au bois de Vincennes, pas à l'Everest ;D"
   ]
  },
  {
   "cell_type": "markdown",
   "metadata": {},
   "source": [
    "### Nombre d'arbres de chaque genre\n",
    "\n",
    "Pour finir, le code suivant affiche le nombre d’arbres de chaque genre.\n",
    "\n",
    "Le principe est de construire une paire *(genre, 1)* par arbre du fichier, puis de cumuler les valeurs\n",
    "genre par genre avec `reduceByKey` (c'est drôle, c'est exactement la même chose que *WordCount*).\n",
    "\n",
    "Sauriez-vous le faire avec la méthode `countByKey` ?\n"
   ]
  },
  {
   "cell_type": "code",
   "execution_count": 17,
   "metadata": {},
   "outputs": [
    {
     "name": "stdout",
     "output_type": "stream",
     "text": [
      "[('Fraxinus', 5997), ('Acer', 18880), ('Tilia', 21839), ('Aesculus', 25078), ('Eucalyptus', 69), ('Quercus', 4336), ('Toona', 1003), ('Celtis', 4480), ('Albizia', 276), ('Betula', 2321), ('Platanus', 42467), ('Corylus', 3506), ('Sophora', 11750), ('Populus', 3253), ('Cornus', 352), ('Prunus', 7515), ('Hibiscus', 16), ('Koelreuteria', 665), ('Non spécifié', 1236), ('Fagus', 1929), ('Gleditsia', 1607), ('Ulmus', 2297), ('Robinia', 2212), ('Sorbus', 507), ('Pyrus', 4584), ('Carpinus', 3474), ('Parrotia', 392), ('Ailanthus', 871), ('Ginkgo', 976), ('Pinus', 4923), ('Liquidambar', 733), ('Ostrya', 713), ('Taxus', 2060), ('Catalpa', 581), ('Pterocarya', 902), ('Zelkova', 469), ('x Cupressocyparis', 599), ('Juglans', 1172), ('Liriodendron', 1085), ('Lagerstroemia', 544), ('Cercis', 1056), ('Cercidiphyllum', 167), ('Ilex', 359), ('Castanea', 194), ('Sambucus', 155), ('Pterostyrax', 6), ('Tetradium', 65), ('Sequoiadendron', 67), ('Paulownia', 1384), ('Chamaecyparis', 1170), ('Cupressus', 599), ('Malus', 2461), ('Morus', 687), ('Trachycarpus', 227), ('Elaeagnus', 175), ('Cedrus', 919), ('Alnus', 727), ('Magnolia', 1226), ('Abies', 126), ('Broussonetia', 231), ('Gymnocladus', 241), ('Aralia', 12), ('Laurus', 37), ('Thuja', 363), ('Ligustrum', 513), ('Crataegus', 488), ('Picea', 205), ('Ficus', 74), ('Cladrastis', 49), ('Phellodendron', 30), ('Arbutus', 18), ('Fontanesia', 46), ('Amelanchier', 400), ('Buxus', 71), ('Lonicera', 7), ('Mespilus', 36), ('Salix', 392), ('Eriobotrya', 34), ('Photinia', 86), ('Cryptomeria', 14), ('Viburnum', 51), ('Diospyros', 137), ('Melia', 139), ('Maclura', 60), ('Calocedrus', 65), ('Ehretia', 40), ('Phillyrea', 60), ('Rhus', 52), ('Fremontodendron', 2), ('Cydonia', 57), ('x Chitalpa', 40), ('Juniperus', 31), ('Metasequoia', 91), ('Platycladus', 57), ('Euonymus', 18), ('Olea', 105), ('Sequoia', 44), ('Callistemon', 2), ('Laburnum', 62), ('Larix', 29), ('Zanthoxylum', 17), ('Sassafras', 5), ('Clerodendrum', 48), ('Abelia', 2), ('Torreya', 8), ('Tsuga', 8), ('Ptelea', 11), ('Davidia', 24), ('Firmiana', 12), ('Syringa', 28), ('Araucaria', 21), ('x Crataemespilus', 2), ('Nothofagus', 29), ('Tamarix', 15), ('Carya', 14), ('Cinnamomum', 2), ('Pseudotsuga', 9), ('Taxodium', 24), ('Cephalotaxus', 30), ('Nyssa', 19), ('Osmanthus', 10), ('Rhododendron', 8), ('Halesia', 15), ('Punica', 6), ('Brahea', 2), ('Acca', 2), ('Rhamnus', 4), ('Stachyurus', 1), ('Platycarya', 2), ('Acacia', 17), ('Cotoneaster', 12), ('Chimonanthus', 3), ('Alangium', 4), ('Kalopanax', 2), ('Cotinus', 12), ('Hippophae', 2), ('Eucommia', 6), ('Phoenix', 2), ('Parrotiopsis', 2), ('Poncirus', 6), ('Cunninghamia', 7), ('Brachychiton', 1), ('Sapindus', 1), ('Enkianthus', 1), ('Luma', 2), ('Buddleja', 2), ('Aronia', 1), ('Asimina', 2), ('Poliothyrsis', 2), ('Caragana', 1), ('Sycopsis', 1), ('Pittosporum', 3), ('Hovenia', 3), ('Chionanthus', 2), ('Styrax', 3), ('Ziziphus', 1), ('Staphylea', 3), ('x Sorbopyrus', 1), ('Carica', 1), ('Idesia', 1), ('Cudrania', 2), ('Maackia', 2), ('Xanthoceras', 1), ('Thujopsis', 4), ('Cordyline', 1), ('Heptacodium', 1), ('Washingtonia', 1), ('Sciadopitys', 1), ('Pistacia', 1), ('Garrya', 1), ('Podocarpus', 2), ('', 1), ('Euscaphis', 1), ('Philadelphus', 1), ('Genista', 1), ('Hemiptelea', 1)]\n"
     ]
    }
   ],
   "source": [
    "\n",
    "# ouvrir le fichier\n",
    "#brut = sc.textFile(\"file:/home/jovyan/paris/les-arbres.csv\")\n",
    "\n",
    "# construire des Arbre à partir de chaque ligne\n",
    "#arbres = brut.map(lambda ligne: Arbre(ligne))\n",
    "\n",
    "# liste des genres d'arbres sans les None\n",
    "genres = arbres.map(lambda arbre: arbre.genre()).filter(lambda X:X is not None)\n",
    "\n",
    "# construction de paires (genre, 1)\n",
    "genres_nombres = genres.map(lambda genre: (genre, 1))\n",
    "\n",
    "# reduce genre par genre\n",
    "genres_total = genres_nombres.reduceByKey(lambda a,b: a+b)\n",
    "\n",
    "# affichage des cumuls par genre\n",
    "cumuls = genres_total.collect()\n",
    "print (cumuls)"
   ]
  },
  {
   "cell_type": "code",
   "execution_count": 19,
   "metadata": {},
   "outputs": [
    {
     "data": {
      "image/png": "[encoded data removed]",
      "text/plain": [
       "<Figure size 1080x720 with 1 Axes>"
      ]
     },
     "metadata": {
      "needs_background": "light"
     },
     "output_type": "display_data"
    }
   ],
   "source": [
    "import matplotlib.pylab as plt\n",
    "plt.rcParams['figure.figsize'] = [15, 10]\n",
    "\n",
    "cumulsd = dict(cumuls)\n",
    "\n",
    "x, y = zip(*cumulsd.items()) # unpack a list of pairs into two tuples\n",
    "plt.bar(x, y)\n",
    "plt.show()"
   ]
  },
  {
   "cell_type": "code",
   "execution_count": null,
   "metadata": {},
   "outputs": [],
   "source": []
  }
 ],
 "metadata": {
  "kernelspec": {
   "display_name": "Python 3",
   "language": "python",
   "name": "python3"
  },
  "language_info": {
   "codemirror_mode": {
    "name": "ipython",
    "version": 3
   },
   "file_extension": ".py",
   "mimetype": "text/x-python",
   "name": "python",
   "nbconvert_exporter": "python",
   "pygments_lexer": "ipython3",
   "version": "3.7.3"
  }
 },
 "nbformat": 4,
 "nbformat_minor": 2
}
