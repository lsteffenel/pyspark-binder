{
  "cells": [
    {
      "cell_type": "markdown",
      "metadata": {
        "id": "_bpHhQIb8P5f"
      },
      "source": [
        "# Projet Spark DataFrames"
      ]
    },
    {
      "cell_type": "markdown",
      "metadata": {
        "id": "m-6dXGx-8P5i"
      },
      "source": [
        "Mettons rapidement en pratique vos nouvelles compétences Spark DataFrame, on vous posera quelques questions de base sur des données boursières, dans ce cas les actions Walmart des années 2012-2017.\n",
        "\n",
        "Répondez aux questions et effectuez les tâches ci-dessous, puis soumettez-les à Moodle."
      ]
    },
    {
      "cell_type": "markdown",
      "metadata": {
        "id": "dnP2lF4q8P5i"
      },
      "source": [
        "#### Utiliser le fichier walmart_stock.csv (disponible à la racine) pour répondre aux tâches ci-dessous :"
      ]
    },
    {
      "cell_type": "markdown",
      "metadata": {
        "id": "BfinRFbi8P5j"
      },
      "source": [
        "#### Démarrer une Spark Session"
      ]
    },
    {
      "cell_type": "code",
      "execution_count": null,
      "metadata": {
        "id": "dXhKu-CO8P5j"
      },
      "outputs": [],
      "source": []
    },
    {
      "cell_type": "markdown",
      "metadata": {
        "id": "do6LvrWd8P5j"
      },
      "source": [
        "#### Charger le fichier CSV Walmart Stock. Laisser Spark deviner le schéma (type de données)."
      ]
    },
    {
      "cell_type": "code",
      "source": [
        "!wget https://github.com/lsteffenel/pyspark-binder/raw/master/walmart_stock.csv"
      ],
      "metadata": {
        "id": "ssHr5aCy8R-N"
      },
      "execution_count": null,
      "outputs": []
    },
    {
      "cell_type": "code",
      "execution_count": null,
      "metadata": {
        "id": "3bU8RgU58P5j"
      },
      "outputs": [],
      "source": [
        "#lecture du fichier\n",
        "\n"
      ]
    },
    {
      "cell_type": "markdown",
      "metadata": {
        "id": "IjHc0Rlv8P5k"
      },
      "source": [
        "#### Quels sont les nos des colonnes ?"
      ]
    },
    {
      "cell_type": "code",
      "execution_count": null,
      "metadata": {
        "jupyter": {
          "outputs_hidden": false
        },
        "id": "3mPTryIR8P5k"
      },
      "outputs": [],
      "source": []
    },
    {
      "cell_type": "markdown",
      "metadata": {
        "id": "o8Dvg6cm8P5k"
      },
      "source": [
        "#### Affichez le schéma."
      ]
    },
    {
      "cell_type": "code",
      "execution_count": null,
      "metadata": {
        "jupyter": {
          "outputs_hidden": false
        },
        "id": "fI023Ai68P5k"
      },
      "outputs": [],
      "source": []
    },
    {
      "cell_type": "markdown",
      "metadata": {
        "id": "E5UkzV6q8P5l"
      },
      "source": [
        "#### Afficher les 5 premières colonnes."
      ]
    },
    {
      "cell_type": "code",
      "execution_count": null,
      "metadata": {
        "jupyter": {
          "outputs_hidden": false
        },
        "id": "XpSjhdO68P5l"
      },
      "outputs": [],
      "source": []
    },
    {
      "cell_type": "markdown",
      "metadata": {
        "id": "uVSjNL498P5l"
      },
      "source": [
        "#### Utiliser `describe()` pour apprendre plus sur le DataFrame."
      ]
    },
    {
      "cell_type": "code",
      "execution_count": null,
      "metadata": {
        "jupyter": {
          "outputs_hidden": false
        },
        "id": "FZRIhM5y8P5l"
      },
      "outputs": [],
      "source": []
    },
    {
      "cell_type": "markdown",
      "metadata": {
        "id": "_OZEhk5o8P5l"
      },
      "source": [
        "## Question Bonus !\n",
        "#### Il y a trop de décimales pour la moyenne et l'écart type, dans le cadre de données describe(). Formatez les nombres pour qu'ils n'affichent que deux décimales. Faites attention aux types de données que .describe() renvoie. [ce lien peut vous aider](http://spark.apache.org/docs/latest/api/python/pyspark.sql.html#pyspark.sql.Column.cast)\n",
        "\n",
        "Si vous bloquez ici, ce n'est pas grave (question bonus), vous pouvez passer à la prochaine étape."
      ]
    },
    {
      "cell_type": "code",
      "execution_count": null,
      "metadata": {
        "jupyter": {
          "outputs_hidden": false
        },
        "id": "YQ2zHIxN8P5l"
      },
      "outputs": [],
      "source": []
    },
    {
      "cell_type": "code",
      "execution_count": null,
      "metadata": {
        "id": "xlCt7nIF8P5l"
      },
      "outputs": [],
      "source": []
    },
    {
      "cell_type": "code",
      "execution_count": null,
      "metadata": {
        "jupyter": {
          "outputs_hidden": false
        },
        "id": "R0wqbNPu8P5l"
      },
      "outputs": [],
      "source": []
    },
    {
      "cell_type": "markdown",
      "metadata": {
        "id": "FC_3EKfF8P5m"
      },
      "source": [
        "#### Créer un nouveau dataframe avec une colonne appelée *HV Ratio* qui est le ratio entre *High Price* et le volume de marchandises négocié dans une journée."
      ]
    },
    {
      "cell_type": "code",
      "execution_count": null,
      "metadata": {
        "jupyter": {
          "outputs_hidden": false
        },
        "id": "u1iNj4cs8P5m"
      },
      "outputs": [],
      "source": []
    },
    {
      "cell_type": "markdown",
      "metadata": {
        "id": "4g9WNXGk8P5m"
      },
      "source": [
        "#### Quel jour a le plus grand pic dans la colonne Price ?"
      ]
    },
    {
      "cell_type": "code",
      "execution_count": null,
      "metadata": {
        "jupyter": {
          "outputs_hidden": false
        },
        "id": "E-2akUWP8P5m"
      },
      "outputs": [],
      "source": []
    },
    {
      "cell_type": "markdown",
      "metadata": {
        "id": "xd0KVNVu8P5m"
      },
      "source": [
        "#### Quelle est la moyenne de la colonne Close ?"
      ]
    },
    {
      "cell_type": "code",
      "execution_count": null,
      "metadata": {
        "jupyter": {
          "outputs_hidden": false
        },
        "id": "I-5T_gBX8P5m"
      },
      "outputs": [],
      "source": []
    },
    {
      "cell_type": "markdown",
      "metadata": {
        "id": "wxj_7K9X8P5m"
      },
      "source": [
        "#### Quel est le max et le min de la colonne Volume ?"
      ]
    },
    {
      "cell_type": "code",
      "execution_count": null,
      "metadata": {
        "id": "j734NvMx8P5m"
      },
      "outputs": [],
      "source": []
    },
    {
      "cell_type": "code",
      "execution_count": null,
      "metadata": {
        "jupyter": {
          "outputs_hidden": false
        },
        "id": "KIhcO9_m8P5m"
      },
      "outputs": [],
      "source": []
    },
    {
      "cell_type": "markdown",
      "metadata": {
        "id": "JKX2sePz8P5m"
      },
      "source": [
        "#### Combien de jours la colonne Close a affiché de valeurs inférieures à 60 dollars ?"
      ]
    },
    {
      "cell_type": "code",
      "execution_count": null,
      "metadata": {
        "jupyter": {
          "outputs_hidden": false
        },
        "id": "qg-lw9w_8P5m"
      },
      "outputs": [],
      "source": []
    },
    {
      "cell_type": "markdown",
      "metadata": {
        "id": "_6vaAkx88P5m"
      },
      "source": [
        "#### Quel percentage du temps la colonne High était supérieure à 80 dollars ?\n",
        "#### En gros, (nombre de jours où High>80)/(nombre total de jours dans le dataset)"
      ]
    },
    {
      "cell_type": "code",
      "execution_count": null,
      "metadata": {
        "jupyter": {
          "outputs_hidden": false
        },
        "id": "8Hkz_iF_8P5m"
      },
      "outputs": [],
      "source": []
    },
    {
      "cell_type": "markdown",
      "metadata": {
        "id": "U5-VsoB18P5m"
      },
      "source": [
        "#### Quelle est la corrélation Pearson entre High et Volume ?\n",
        "#### [Astuce](http://spark.apache.org/docs/latest/api/python/pyspark.sql.html#pyspark.sql.DataFrameStatFunctions.corr)"
      ]
    },
    {
      "cell_type": "code",
      "execution_count": null,
      "metadata": {
        "jupyter": {
          "outputs_hidden": false
        },
        "id": "rx25FZVi8P5n"
      },
      "outputs": [],
      "source": []
    },
    {
      "cell_type": "markdown",
      "metadata": {
        "id": "9qrsZac18P5n"
      },
      "source": [
        "#### Quelle est la plus grande valeur High de l'année ?"
      ]
    },
    {
      "cell_type": "code",
      "execution_count": null,
      "metadata": {
        "jupyter": {
          "outputs_hidden": false
        },
        "id": "a8l60Vv08P5n"
      },
      "outputs": [],
      "source": []
    },
    {
      "cell_type": "markdown",
      "metadata": {
        "id": "0VJctC6G8P5n"
      },
      "source": [
        "#### Quelle est la moyenne de Close pour chaque mois (Jan, Feb, ...) ?"
      ]
    },
    {
      "cell_type": "code",
      "execution_count": null,
      "metadata": {
        "jupyter": {
          "outputs_hidden": false
        },
        "id": "VtZql8AN8P5n"
      },
      "outputs": [],
      "source": []
    },
    {
      "cell_type": "markdown",
      "metadata": {
        "id": "jYef5vzS8P5n"
      },
      "source": [
        "# Bon boulot, et n'oubliez pas de déposer votre .ipynb sur Moodle :)"
      ]
    },
    {
      "cell_type": "code",
      "execution_count": null,
      "metadata": {
        "id": "OvSCxy_98P5q"
      },
      "outputs": [],
      "source": []
    }
  ],
  "metadata": {
    "anaconda-cloud": {},
    "kernelspec": {
      "display_name": "Python 3 (ipykernel)",
      "language": "python",
      "name": "python3"
    },
    "language_info": {
      "codemirror_mode": {
        "name": "ipython",
        "version": 3
      },
      "file_extension": ".py",
      "mimetype": "text/x-python",
      "name": "python",
      "nbconvert_exporter": "python",
      "pygments_lexer": "ipython3",
      "version": "3.7.12"
    },
    "colab": {
      "provenance": []
    }
  },
  "nbformat": 4,
  "nbformat_minor": 0
}