{
 "cells": [
  {
   "cell_type": "markdown",
   "metadata": {},
   "source": [
    "# TP 2 - Stations météo - À RENDRE\n",
    "\n",
    "Dans cet exercice, vous allez appliquer les connaissances apprises lors du premier TP\n",
    "\n",
    "Vous allez travailler avec le fichier \"Integrated Surface Database Station History\", qui regroupe les stations mémtéo de l'armée américaine. Ce fichier est organisé comme suit : \n",
    "\n",
    "* une entête de 22 lignes (qui rappelle le contenu des champs, plus des métadonnées) ;\n",
    "* des champs délimités par un nombre défini de caractères, comme indiqué dans le tableau.\n",
    "\n",
    "offset | taille | exemple | signification\n",
    "-------|--------|---------|--------------\n",
    "0 | 6 | 225730 | USAF = Air Force Datsav3 station number\n",
    "7 | 5 | 99999 | WBAN = NCDC WBAN number\n",
    "13 | 29 | LESUKONSKOE | Station name\n",
    "43 | 2 | US | FIPS country ID (pays)\n",
    "48 | 2 | KS | ST = State for US stations\n",
    "51 | 4 | LFRO | CALL = ICAO call sign (code aéroport)\n",
    "57 | 7 | +64.900 | LAT = Latitude in decimal degrees\n",
    "65 | 8 | +045.767 | LON = Longitude in decimal degrees\n",
    "74 | 7 | +0071.0 | ELEV = Elevation in meters (altitude)\n",
    "82 | 8 | 19590101 | BEGIN = Beginning Period Of Record (YYYYMMDD)\n",
    "91 | 8 | 20140206 | END = Ending Period Of Record (YYYYMMDD)"
   ]
  },
  {
   "cell_type": "markdown",
   "metadata": {},
   "source": [
    "## Téléchargement du dataset\n",
    "\n",
    "le paragraphe suivant télécharge le dataset, et celui d'après définit une classe pour le *parsing* des données.\n",
    "Comme indiqué précédemment, le fichier contient 22 lignes d'entête qu'il faut enlever. La version `RDD` de Spark ne sait pas enlever facilement ces lignes, alors on \"triche\" en utilisant une commande du *shell* linux:  "
   ]
  },
  {
   "cell_type": "code",
   "execution_count": null,
   "metadata": {},
   "outputs": [],
   "source": [
    "!wget ftp://ftp.ncdc.noaa.gov/pub/data/noaa/isd-history.txt -O input.txt\n",
    "!tail -n +23 input.txt > isd-history.txt\n",
    "!head isd-history.txt"
   ]
  },
  {
   "cell_type": "code",
   "execution_count": null,
   "metadata": {},
   "outputs": [],
   "source": [
    "## classe Station\n",
    "# chaque instance représente l'une des lignes du fichier isd-history.txt\n",
    "class Station(object):\n",
    "\n",
    "    # constructeur\n",
    "    def __init__(self, ligne):\n",
    "        self.ligne = ligne\n",
    "\n",
    "    def __str__(self):\n",
    "        return \"Station[usaf=%s]\" % self.usaf()\n",
    "\n",
    "    def usaf(self):\n",
    "        return self.ligne[0:0+6]\n",
    "\n",
    "    def nom(self):\n",
    "        return self.ligne[13:13+29].strip()\n",
    "\n",
    "    def pays(self):\n",
    "        return self.ligne[43:43+2].strip()\n",
    "\n",
    "    def latitude(self):\n",
    "        try:\n",
    "            return float(self.ligne[57:57+7])\n",
    "        except:\n",
    "            return None\n",
    "\n",
    "    def longitude(self):\n",
    "        try:\n",
    "            return float(self.ligne[65:65+8])\n",
    "        except:\n",
    "            return None\n",
    "\n",
    "    def altitude(self):\n",
    "        try:\n",
    "            return float(self.ligne[74:74+7])\n",
    "        except:\n",
    "            return None\n",
    "\n",
    "    def annee_debut(self):\n",
    "        try:\n",
    "            return int(self.ligne[82:82+4])\n",
    "        except:\n",
    "            return None\n",
    "\n",
    "    def annee_fin(self):\n",
    "        try:\n",
    "            return int(self.ligne[91:91+4])\n",
    "        except:\n",
    "            return None"
   ]
  },
  {
   "cell_type": "markdown",
   "metadata": {},
   "source": [
    "### Lecture des données\n"
   ]
  },
  {
   "cell_type": "code",
   "execution_count": 1,
   "metadata": {},
   "outputs": [],
   "source": [
    "import pyspark\n",
    "import random\n",
    "sc = pyspark.SparkContext(appName=\"TP2 RDD\")\n",
    "\n",
    "brut = sc.textFile(\"file:/home/jovyan/isd-history.txt\")"
   ]
  },
  {
   "cell_type": "markdown",
   "metadata": {},
   "source": [
    "## Exercice 1 : Répartition des stations par hémisphère\n",
    "\n",
    "En se basant sur la latitude, il faudra compter le nombre de stations dans l’hémisphère nord et\n",
    "dans l’hémisphère sud. Pour cela : \n",
    "* Il faut définir une fonction (isolée, pas une lambda) qui retourne \"nord\" ou \"sud\" selon la latitude. Vous devez ignorer les stations dont la latitude est inconnue.\n",
    "* Il faut appeler cette fonction sur chaque station afin de construire des paires (\"nord\", 1) ou (\"sud\", 1)\n",
    "* Il faut additionner les valeurs des paires ayant la même clé.\n",
    "\n",
    "Utilisez ce que vous avez appris pour compter ces stations"
   ]
  },
  {
   "cell_type": "code",
   "execution_count": null,
   "metadata": {},
   "outputs": [],
   "source": [
    "### \n",
    "###   VOTRE CODE ICI\n",
    "###\n"
   ]
  },
  {
   "cell_type": "markdown",
   "metadata": {},
   "source": [
    "## Exercice 2 : Plus grande période de mesures\n",
    "\n",
    "On veut savoir quelle est l’identifiant USAF et le nom de la station qui a le plus grand écart\n",
    "d’années entre le début de ses mesures et la fin. Par exemple, la station 225730 LESUKONSKOE\n",
    "va de 1959 à 2014, ça fait 55 années mais ce n’est pas la plus longue période.\n",
    "\n",
    "Pour cela : \n",
    "* L’année se trouve au début des champs BEGIN et END. Il suffit de la convertir en entier.\n",
    "* Il faut d’abord garder les stations qui ont une année de début et une année de fin.\n",
    "* Il faut construire des paires (fin-début, usaf+\" \"+nom)\n",
    "* Il faut classer ces paires dans l’ordre des années d’écart décroissantes, puis garder la première.\n",
    "\n",
    "Il y a aussi les méthodes `min` et `max` auxquelles on passe une fonction ou lambda qui permet\n",
    "de spécifier sur quoi on recherche les extrêmes. L’exemple de la doc Spark n’est pas clair (usage de la\n",
    "fonction str pour comparer les valeurs d’une liste). Voici par exemple comment trouver la station\n",
    "la plus haute :\n"
   ]
  },
  {
   "cell_type": "raw",
   "metadata": {},
   "source": [
    "stations = ...\n",
    "plus_haute = stations.max(lambda s: s.altitude())"
   ]
  },
  {
   "cell_type": "markdown",
   "metadata": {},
   "source": [
    "Bien comprendre que la lambda sert à sélectionner la valeur à maximiser, mais c’est le n-uplet\n",
    "entier qui est retourné.\n",
    "On peut aussi appliquer cette technique à une liste de paires (clé, valeur). Par exemple, retourner\n",
    "la paire ayant la plus petite valeur :"
   ]
  },
  {
   "cell_type": "raw",
   "metadata": {},
   "source": [
    "paires = ...\n",
    "petite_paire = paires.min(lambda (cle,val): val)"
   ]
  },
  {
   "cell_type": "markdown",
   "metadata": {},
   "source": [
    "C'est à vous : "
   ]
  },
  {
   "cell_type": "code",
   "execution_count": null,
   "metadata": {},
   "outputs": [],
   "source": [
    "### \n",
    "###   VOTRE CODE ICI\n",
    "###\n",
    "\n"
   ]
  },
  {
   "cell_type": "markdown",
   "metadata": {},
   "source": [
    "## Exercice 3 : Pays ayant le plus de stations\n",
    "\n",
    "On veut savoir quel est le pays qui a le plus de stations. Le pays est un code sur deux lettres, ex:\n",
    "FR. Il faut ignorer les pays incorrects.\n",
    "\n",
    "A un moment, vous pourrez avoir besoin d’une astuce qui consiste à échanger les clés et les valeurs\n",
    "dans les paires à traiter. Il suffit d’une lambda `(c,v): (v,c)`. Ou alors utiliser `sortBy` avec une\n",
    "lambda qui extrait la valeur.\n",
    "\n",
    "À vous de jouer : "
   ]
  },
  {
   "cell_type": "code",
   "execution_count": null,
   "metadata": {},
   "outputs": [],
   "source": [
    "### \n",
    "###   VOTRE CODE ICI\n",
    "###\n"
   ]
  },
  {
   "cell_type": "markdown",
   "metadata": {},
   "source": [
    "### Exercice 4 : Nombre de pays ayant des stations\n",
    "\n",
    "On veut savoir combien de pays possèdent des stations météo. Pour cela, il faut faire la liste des\n",
    "pays, mais en un seul exemplaire chacun, puis les compter.\n",
    "Vous pourrez employer la méthode `distinct` ou trouver un moyen avec des paires (clé, valeur).\n",
    "Il y a actuellement 249 pays listés (vous pouvez les trouver sur [cette page](https://www.iso.org/obp/ui/fr/#search))."
   ]
  },
  {
   "cell_type": "code",
   "execution_count": null,
   "metadata": {},
   "outputs": [],
   "source": [
    "### \n",
    "###   VOTRE CODE ICI\n",
    "###\n"
   ]
  },
  {
   "cell_type": "markdown",
   "metadata": {},
   "source": [
    "# Comment rendre ce TP\n",
    "\n",
    "Dans le champ ci-dessous, indiquez votre nom et prénom.\n",
    "Vous pouvez travailler en binômes, dans ce cas il faut indiquer les noms des deux collègues.\n",
    "Ensuite : \n",
    "* exportez ce notebook (onglet File->Download as->Notebook(.ipynb)\n",
    "* envoyer le fichier par email à [angelo.steffenel@univ-reims.fr](mailto:angelo.steffenel²univ-reims.fr)\n",
    "\n",
    "## Date limite : vendredi 13/11/2020 (23h59)"
   ]
  },
  {
   "cell_type": "code",
   "execution_count": null,
   "metadata": {},
   "outputs": [],
   "source": []
  }
 ],
 "metadata": {
  "kernelspec": {
   "display_name": "Python 3",
   "language": "python",
   "name": "python3"
  },
  "language_info": {
   "codemirror_mode": {
    "name": "ipython",
    "version": 3
   },
   "file_extension": ".py",
   "mimetype": "text/x-python",
   "name": "python",
   "nbconvert_exporter": "python",
   "pygments_lexer": "ipython3",
   "version": "3.7.3"
  }
 },
 "nbformat": 4,
 "nbformat_minor": 2
}
