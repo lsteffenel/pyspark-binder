{
 "cells": [
  {
   "cell_type": "markdown",
   "metadata": {},
   "source": [
    "# TP Spark (Crimes)\n",
    "\n",
    "## INSTRUCTIONS (LIRE TOUT)\n",
    "\n",
    "Ce TP guidé nécessite votre entière attention, car sinon vous risquez des conflits avec les collègues. \n",
    "\n",
    "## ETAPE 1 : Cloner ce notebook\n",
    "* Cliquer sur le bouton \"clone this note\", ci-dessus (5ème bouton à côté de \"TP-Spark-Crimes\")\n",
    "\n"
   ]
  },
  {
   "cell_type": "markdown",
   "metadata": {},
   "source": [
    "## ETAPE 2 : Déroulement du TP\n",
    "\n",
    "Ce TP est composé de deux parties. Pour plus de simplicité, les données ont déjà été téléchargés et mis sur HDFS, il ne vous restera que de les associer aux tables. \n",
    "\n",
    "Ensuite, vous devez suivre les instructions afin de faire des requêtes demandées. "
   ]
  },
  {
   "cell_type": "markdown",
   "metadata": {},
   "source": [
    "### Exercice 1 : Analyse des crimes à Chicago\n",
    "\n",
    "Dans cette première partie on va créer un RDD avec les données issus de la police de Chicago. \n",
    "Vous commencez par suivre les énoncés et étudier les opérations faites.\n",
    "\n",
    "Par la suite (un peu plus bas) on vous demande de créer vos propres requêtes afin de répondre à certaines questions.\n",
    "\n",
    "\n"
   ]
  },
  {
   "cell_type": "code",
   "execution_count": 3,
   "metadata": {
    "autoscroll": "auto"
   },
   "outputs": [],
   "source": [
    "data = sc.textFile(\"/user/zeppelin/data-source/crimes_chicago_2012_2015.csv\")\n",
    "\n",
    "# le format du fichier est comme ceci (sans l'entête, qui vous est montrée juste pour mieux comprendre)\n",
    "\n",
    "# ID,Primary Type,Description,Location Description,District,Year\n",
    "# 10135619,INTERFERENCE WITH PUBLIC OFFICER,OBSTRUCTING IDENTIFICATION,STREET,007,2015\n",
    "# 10135613,WEAPONS VIOLATION,UNLAWFUL POSS OF HANDGUN,SIDEWALK,005,2015\n",
    "# 10135628,ASSAULT,SIMPLE,SIDEWALK,012,2015\n",
    "# 10135569,CRIMINAL DAMAGE,TO VEHICLE,VEHICLE NON-COMMERCIAL,014,2015\n",
    "# 10135612,CRIMINAL TRESPASS,TO RESIDENCE,APARTMENT,024,2015\n",
    "# 10135625,BATTERY,AGGRAVATED: OTHER DANG WEAPON,RESIDENTIAL YARD (FRONT/BACK),005,2015\n",
    "# 10135603,DECEPTIVE PRACTICE,THEFT OF LABOR/SERVICES,CTA PLATFORM,011,2015\n",
    "# 10135561,ASSAULT,SIMPLE,SIDEWALK,009,2015\n",
    "# 10135664,ROBBERY,STRONGARM - NO WEAPON,SIDEWALK,019,2015\n",
    "# 8951962,MOTOR VEHICLE THEFT,AUTOMOBILE,STREET,007,2013\n"
   ]
  },
  {
   "cell_type": "code",
   "execution_count": 4,
   "metadata": {
    "autoscroll": "auto"
   },
   "outputs": [],
   "source": [
    "data.take(10)"
   ]
  },
  {
   "cell_type": "code",
   "execution_count": 5,
   "metadata": {
    "autoscroll": "auto"
   },
   "outputs": [],
   "source": [
    "# Split to separate every column\n",
    "dataset = data.map(lambda l: l.split(','))\n",
    "\n",
    "\n",
    "# Count crime number by year\n",
    "# First assign 1 to each year then reduceBy year and add number.\n",
    "# It is more efficient than groupBy because it doesn't need to move data over the cluster\n",
    "nbCrimesByYear = dataset.map(lambda row : (row[5], 1)).reduceByKey(lambda a,b:a+b)\n",
    "\n",
    "\n",
    "print(\"nbCrimesByYear : \" + str(nbCrimesByYear.collect()))\n",
    "# nbCrimesByYear : [(u'2015', 119963), (u'2014', 264960), (u'2013', 296459)]"
   ]
  },
  {
   "cell_type": "code",
   "execution_count": 6,
   "metadata": {
    "autoscroll": "auto"
   },
   "outputs": [],
   "source": [
    "# Count crime number for crimes including vehicle\n",
    "# First filter on description including pattern then count\n",
    "nbCrimesTypeVehicle = dataset.filter(lambda row : \"VEHICLE\" in row[1])\n",
    "print(\"nbCrimesTypeVehicle : \" + str(nbCrimesTypeVehicle.count()))\n",
    "# nbCrimesTypeVehicle : 25806\n"
   ]
  },
  {
   "cell_type": "code",
   "execution_count": 7,
   "metadata": {
    "autoscroll": "auto"
   },
   "outputs": [],
   "source": [
    "# Count crime number for crimes performed on the sidewalk\n",
    "# First filter on description including pattern then count\n",
    "nbSidewalkCrimes = dataset.filter(lambda row : \"SIDEWALK\" in row[3])\n",
    "print(\"nbSidewalkCrimes : \" + str(nbSidewalkCrimes.count()))\n",
    "# nbSidewalkCrimes : 80340\n"
   ]
  },
  {
   "cell_type": "code",
   "execution_count": 8,
   "metadata": {
    "autoscroll": "auto"
   },
   "outputs": [],
   "source": [
    "# # Simple fonction to make an addition\n",
    "def count(a, b):\n",
    "\treturn a+b\n",
    "\n",
    "# Search the district with more crimes\n",
    "# here res is the result set of reduceByKey, which is composed by (key, value) so we sort by the values\n",
    "dangerousDistrictSorted = dataset.map(lambda row : (row[4], 1)).reduceByKey(count).sortBy(lambda res : res[1], ascending=False)\n",
    "print(\"dangerousDistrictSorted : \" + str(dangerousDistrictSorted.first()))\n",
    "# dangerousDistrictSorted : (u'011', 49630)"
   ]
  },
  {
   "cell_type": "markdown",
   "metadata": {},
   "source": [
    "Maintenant, c'est à vous de faire d'autres analyses : \n",
    "-\tLe nombre de crimes à l'arme de feu (HANDGUN) ou au couteau (KNIFE), classé par année. Lequel des deux est le plus commun ?\n",
    "-\tLe nombre d'invasions aux résidences (CRIMINAL TRESSPASS), classés par district\n",
    "-\tLes 10 crimes les plus fréquents enregistrés dans les HOTEL/MOTEL\n",
    "\n"
   ]
  },
  {
   "cell_type": "code",
   "execution_count": 10,
   "metadata": {
    "autoscroll": "auto"
   },
   "outputs": [],
   "source": [
    "# Le nombre de crimes à l’arme de feu (HANDGUN) ou au couteau (KNIFE), classé par année. Lequel des deux est le plus commun ?\n"
   ]
  },
  {
   "cell_type": "code",
   "execution_count": 11,
   "metadata": {
    "autoscroll": "auto"
   },
   "outputs": [],
   "source": [
    "# Le nombre d’invasions aux résidences (CRIMINAL TRESSPASS), classés par district"
   ]
  },
  {
   "cell_type": "code",
   "execution_count": 12,
   "metadata": {
    "autoscroll": "auto"
   },
   "outputs": [],
   "source": [
    "# Les 10 crimes les plus fréquents enregistrés dans les HOTEL/MOTEL"
   ]
  },
  {
   "cell_type": "markdown",
   "metadata": {},
   "source": [
    "### Exercice 2 - Consommation éléctrique + visualisation avec Matplotlib\n",
    "\n",
    "Suivez les instructions du PDF disponible sur le bureau virtuel. \n"
   ]
  },
  {
   "cell_type": "code",
   "execution_count": 14,
   "metadata": {
    "autoscroll": "auto"
   },
   "outputs": [],
   "source": []
  },
  {
   "cell_type": "code",
   "execution_count": 15,
   "metadata": {
    "autoscroll": "auto"
   },
   "outputs": [],
   "source": []
  }
 ],
 "metadata": {
  "kernelspec": {
   "display_name": "Spark 2.0.0",
   "language": "python",
   "name": "spark2"
  },
  "language_info": {
   "codemirror_mode": "text/python",
   "file_extension": ".py",
   "mimetype": "text/python",
   "name": "scala",
   "pygments_lexer": "python",
   "version": "3.6"
  }
 },
 "nbformat": 4,
 "nbformat_minor": 2
}
