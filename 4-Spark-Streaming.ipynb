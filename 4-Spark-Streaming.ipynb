{
 "cells": [
  {
   "cell_type": "markdown",
   "metadata": {},
   "source": [
    "# TP Spark - Utilisation de Spark Streaming\n",
    "\n",
    "## ETAPE 1 : Télécharger les données et Initialisation de l'environnement\n"
   ]
  },
  {
   "cell_type": "code",
   "execution_count": null,
   "metadata": {},
   "outputs": [],
   "source": [
    "!mkdir dataset\n",
    "!wget http://cosy.univ-reims.fr/~lsteffenel/cours/Master2/RT0902-BigData/departureDelays_all.json -O dataset/departureDelays_all.json"
   ]
  },
  {
   "cell_type": "code",
   "execution_count": null,
   "metadata": {},
   "outputs": [],
   "source": [
    "import pyspark\n",
    "import random\n",
    "from pyspark.sql import SparkSession\n",
    "spark = SparkSession.builder.master(\"local\").appName('TP Spark Stream').getOrCreate()\n",
    "spark.conf.set(\"spark.sql.repl.eagerEval.enabled\", True)"
   ]
  },
  {
   "cell_type": "markdown",
   "metadata": {},
   "source": [
    "Dans ce TP nous allons utiliser des datasets issus du contrôle aérien des États Unis. Dans ce cas, nous avons des données concernant différents vols au sein des États Unis en 2014. Ceux-ci listent les différents vols, leur lieux de départ et de destination, la distance parcourue, la date et aussi les retards. \n",
    "\n",
    "Nous allons définir le schéma et charger ce fichier en mémoire."
   ]
  },
  {
   "cell_type": "code",
   "execution_count": null,
   "metadata": {},
   "outputs": [],
   "source": []
  },
  {
   "cell_type": "code",
   "execution_count": null,
   "metadata": {
    "autoscroll": "auto"
   },
   "outputs": [],
   "source": [
    "from pyspark.sql.types import *\n",
    "departureDelays_geo_schema = StructType([StructField(\"tripid\",IntegerType(),True),\n",
    "                    StructField(\"localdate\",TimestampType(),True),\n",
    "                    StructField(\"delay\",IntegerType(),True),\n",
    "                    StructField(\"distance\",IntegerType(),True),\n",
    "                    StructField(\"src\",StringType(),True),\n",
    "                    StructField(\"dst\",StringType(),True),\n",
    "                    StructField(\"city_src\",StringType(),True),\n",
    "                    StructField(\"city_dst\",StringType(),True),\n",
    "                    StructField(\"state_src\",StringType(),True),\n",
    "                    StructField(\"state_dst\",StringType(),True)])\n",
    "    \n",
    "    \n",
    "staticInputDF = (\n",
    "  spark\n",
    "    .read\n",
    "    .schema(departureDelays_geo_schema)\n",
    "    .json(\"/home/jovyan/dataset/departureDelays_all.json\")\n",
    ")\n",
    "\n"
   ]
  },
  {
   "cell_type": "markdown",
   "metadata": {},
   "source": [
    "La variable `staticInputDF`, comme son nom l'indique, est un DataFrame statique (type *batch*). "
   ]
  },
  {
   "cell_type": "code",
   "execution_count": null,
   "metadata": {
    "autoscroll": "auto"
   },
   "outputs": [],
   "source": [
    "staticInputDF"
   ]
  },
  {
   "cell_type": "markdown",
   "metadata": {},
   "source": [
    "Maintenant nous voulons obtenir le nombre de vols par état (`departureDelays_static.state_src`), regroupés par des \"fenêtres\" de temps de 5h.\n",
    "Pour cela, utilisez la fonction `window()` (un exemple est disponible à https://spark.apache.org/docs/latest/api/python/pyspark.sql.html?highlight=groupby#pyspark.sql.functions.window ).\n",
    "\n"
   ]
  },
  {
   "cell_type": "code",
   "execution_count": null,
   "metadata": {
    "autoscroll": "auto"
   },
   "outputs": [],
   "source": [
    "from pyspark.sql.functions import *\n",
    "# votre code ici\n",
    "\n",
    "staticCountsDF = (\n",
    "  staticInputDF\n",
    "    .groupBy(\n",
    "      staticInputDF.state_src, \n",
    "      window(staticInputDF.localdate, \"5 hours\"))    \n",
    "    .count()\n",
    "\n",
    ")\n"
   ]
  },
  {
   "cell_type": "code",
   "execution_count": null,
   "metadata": {
    "autoscroll": "auto"
   },
   "outputs": [],
   "source": [
    "staticCountsDF"
   ]
  },
  {
   "cell_type": "code",
   "execution_count": null,
   "metadata": {
    "autoscroll": "auto"
   },
   "outputs": [],
   "source": [
    "# Maintenant on va garder ce DataFrame en mémoire cache, et créer une table qu'on peut requêter avec du SQL\n",
    "staticCountsDF.cache()\n",
    "\n",
    "\n",
    "staticCountsDF.createOrReplaceTempView(\"static_counts\")"
   ]
  },
  {
   "cell_type": "markdown",
   "metadata": {},
   "source": [
    "la prochaine ligne fait directement du SQL. Ici, on récupère les données précédentes, en faisant la transformation de la date (on extrait la date et l'heure finale de chaque période)."
   ]
  },
  {
   "cell_type": "code",
   "execution_count": null,
   "metadata": {},
   "outputs": [],
   "source": [
    "sqlWay = spark.sql(\"select state_src, date_format(window.end, 'MMM-dd HH:mm') as time, count from static_counts order by time, state_src\")\n",
    "sqlWay"
   ]
  },
  {
   "cell_type": "markdown",
   "metadata": {},
   "source": [
    "## Streaming\n",
    "\n",
    "L'example précédent a utilise des DataFrames statiques. Dans la suite, nous allons faire l'usage du Structured Streaming de Spark.\n",
    "\n",
    "Pour simuler un stream, nous allons prendre un répertoire et générer plusieurs fichiers. Ces fichiers sont en fait issus du fichier source précédent, découpé en 200 fichiers différents de manière plus ou moins aléatoire.\n"
   ]
  },
  {
   "cell_type": "code",
   "execution_count": null,
   "metadata": {},
   "outputs": [],
   "source": [
    "spark.conf.set(\"spark.sql.shuffle.partitions\", \"200\")  # Use 200 partitions for shuffling\n",
    "staticInputDF.orderBy(\"localdate\").write.json(\"departureDelays_json\")\n",
    "departureDelays_geo_schema = staticInputDF.schema\n",
    "departureDelays_geo_schema"
   ]
  },
  {
   "cell_type": "code",
   "execution_count": null,
   "metadata": {
    "format": "text/plain"
   },
   "outputs": [],
   "source": [
    "!ls departureDelays_json"
   ]
  },
  {
   "cell_type": "markdown",
   "metadata": {},
   "source": [
    "Afin de lire ce stream, nous allons \"connecter\" le stream à une source fichier. Nous allons \"tricher\" un peu, en obligeant la lecture d'un fichier à la fois... Cela nous permettra (on espère) de voir l'évolution des tables."
   ]
  },
  {
   "cell_type": "code",
   "execution_count": null,
   "metadata": {
    "autoscroll": "auto"
   },
   "outputs": [],
   "source": [
    "from pyspark.sql.functions import *\n",
    "\n",
    "inputPath = \"/home/jovyan/departureDelays_json\"\n",
    "\n",
    "# On utilise la même définition est schéma de staticInputDF, seulement on fera l'usage de `readStream` au lieu de `read`\n",
    "streamingInputDF = (\n",
    "  spark\n",
    "    .readStream                       \n",
    "    .schema(departureDelays_geo_schema) # Le schéma des fichiers JSON\n",
    "    .option(\"maxFilesPerTrigger\", 1)  # Traite les fichiers comme un stream, en lisant un à la fois\n",
    "    .json(inputPath)\n",
    ")\n",
    "\n"
   ]
  },
  {
   "cell_type": "code",
   "execution_count": null,
   "metadata": {
    "autoscroll": "auto"
   },
   "outputs": [],
   "source": [
    "# Est-ce vraiment un stream ? La sortie de `isStreaming` indique quel est le status de ce DataFrame\n",
    "streamingInputDF.isStreaming"
   ]
  },
  {
   "cell_type": "code",
   "execution_count": null,
   "metadata": {
    "autoscroll": "auto"
   },
   "outputs": [],
   "source": [
    "# On prépare la même requête que précédemment. Attention, le stream n'a pas encore démarré, on a juste mis en place la source et une opération\n",
    "streamingCountsDF = (                 \n",
    "  streamingInputDF\n",
    "    .groupBy(\n",
    "      streamingInputDF.state_src, \n",
    "      window(streamingInputDF.localdate, \"5 hours\"))    \n",
    "    .count()\n",
    ")\n"
   ]
  },
  {
   "cell_type": "markdown",
   "metadata": {},
   "source": [
    "### Le moment est arrivé\n",
    "\n",
    "Et voilà, c'est le moment de démarrer le traitement du stream. Dans le paragraphe suivant vous allez déclancher un query (un tableau dynamique), qui sera alimentée par le stream (les fichiers).\n",
    "Pour observer cela, on a fait plusiers requêtes SQL intercalées par des sleep. Les résultats affichés dans les paragraphes suivants devraient être modifiées au fil du temps, indiquant l'annexation de nouvelles informations selon l'arrivage des données du stream.  \n",
    "\n",
    " *Aucune garantie sur le résultat :) Ça a marché pour moi mais tout dépend de la vitesse de traitement des fichiers (si tout est fait rapidement, même la première requête sera déjà complète)\n"
   ]
  },
  {
   "cell_type": "code",
   "execution_count": null,
   "metadata": {
    "autoscroll": "auto",
    "scrolled": true
   },
   "outputs": [],
   "source": [
    "from time import sleep\n",
    "spark.conf.set(\"spark.sql.shuffle.partitions\", \"1\")  # keep the size of shuffles small\n",
    "query = (\n",
    "  streamingCountsDF\n",
    "    .writeStream\n",
    "    .format(\"memory\")        # memory = store in-memory table (for testing only in Spark 2.0)\n",
    "    .queryName(\"count3\")     # counts = name of the in-memory table\n",
    "    .outputMode(\"complete\")  # complete = all the counts should be in the table\n",
    "    .start()\n",
    ")\n",
    "\n",
    "#sleep(5)  # wait a bit \n",
    "sql1 = spark.sql(\"select state_src, date_format(window.end, 'MMM-dd HH:mm') as time, count from count3 order by time,state_src\")\n",
    "print(sql1)\n",
    "sleep(1)  # wait a bit \n",
    "sql2 = spark.sql(\"select state_src, date_format(window.end, 'MMM-dd HH:mm') as time, count from count3 order by time,state_src\")\n",
    "print(sql2)\n",
    "sleep(2)  # wait a bit more\n",
    "sql3 = spark.sql(\"select state_src, date_format(window.end, 'MMM-dd HH:mm') as time, count from count3 order by time,state_src\")\n",
    "print(sql3)\n",
    "sleep(3)  # wait a bit more\n",
    "sql4 = spark.sql(\"select state_src, date_format(window.end, 'MMM-dd HH:mm') as time, count from count3 order by time,state_src\")\n",
    "print(sql4)\n",
    "query.stop()\n"
   ]
  },
  {
   "cell_type": "code",
   "execution_count": null,
   "metadata": {
    "autoscroll": "auto"
   },
   "outputs": [],
   "source": [
    "query.stop()"
   ]
  },
  {
   "cell_type": "code",
   "execution_count": null,
   "metadata": {},
   "outputs": [],
   "source": []
  }
 ],
 "metadata": {
  "kernelspec": {
   "display_name": "Python 3",
   "language": "python",
   "name": "python3"
  },
  "language_info": {
   "codemirror_mode": {
    "name": "ipython",
    "version": 3
   },
   "file_extension": ".py",
   "mimetype": "text/x-python",
   "name": "python",
   "nbconvert_exporter": "python",
   "pygments_lexer": "ipython3",
   "version": "3.7.3"
  }
 },
 "nbformat": 4,
 "nbformat_minor": 2
}
